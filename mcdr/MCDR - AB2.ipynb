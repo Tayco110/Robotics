{
 "cells": [
  {
   "attachments": {},
   "cell_type": "markdown",
   "metadata": {},
   "source": [
    "<center><strong><h1>Universidade Federal de Alagoas</h1></strong></center>\n",
    "<center><strong><h1>IC - Instituto de Computação</h1></strong></center>\n",
    "<center><strong><h2>Modelagem e Controle de Robos - 2022.1</h2></strong></center>\n",
    "\n",
    "---\n",
    "\n",
    "**Professores**: Ícaro Araújo e Glauber Leite\n",
    "\n",
    "---\n",
    "\n",
    "<center><strong><h2>Controle por Força</h2></strong></center>"
   ]
  },
  {
   "attachments": {},
   "cell_type": "markdown",
   "metadata": {},
   "source": [
    "<center><strong><h3>1. Setup: </h3></strong></center>"
   ]
  },
  {
   "cell_type": "code",
   "execution_count": 29,
   "metadata": {},
   "outputs": [],
   "source": [
    "#Imports\n",
    "import numpy as np\n",
    "from IPython import display\n",
    "\n",
    "from sympy.physics.mechanics import dynamicsymbols, init_vprinting\n",
    "from sympy import Function, simplify, Matrix, collect, factor, Wild\n",
    "from sympy import sin as s, cos as c, symbols as symbol, diff as df"
   ]
  },
  {
   "cell_type": "code",
   "execution_count": 30,
   "metadata": {},
   "outputs": [],
   "source": [
    "init_vprinting()"
   ]
  },
  {
   "cell_type": "code",
   "execution_count": 31,
   "metadata": {},
   "outputs": [],
   "source": [
    "#Variáveis simbólicas\n",
    "t, g, pi = symbol('t'), symbol('g'), symbol('\\\\pi')\n",
    "L2, L3 = symbol('L_2'), symbol('L_3')\n",
    "m2, m3 = symbol('m_2'), symbol('m_3')\n",
    "t1, t2, t3 = Function('\\\\theta_1')(t), Function('\\\\theta_2')(t), Function('\\\\theta_3')(t)"
   ]
  },
  {
   "attachments": {},
   "cell_type": "markdown",
   "metadata": {},
   "source": [
    "<center><strong><h3>2. Jacobiana Analítica </h3></strong></center>"
   ]
  },
  {
   "attachments": {},
   "cell_type": "markdown",
   "metadata": {},
   "source": [
    "### Matrizes de transformação até o efetuador:\n",
    "\n",
    "Do *frame* 0 até o *frame* 1, temos:\n",
    "\n",
    "\\begin{gather*} \n",
    "    _{0}^{1}{T} = \n",
    "    \\begin{bmatrix}\n",
    "    c\\theta_1 &  0 & -s\\theta_1 & 0\\\\ \n",
    "    s\\theta_1 &  0 & c\\theta_1  & 0\\\\ \n",
    "    0         & -1 & 0          & 0.11\\\\ \n",
    "    0         &  0 & 0          & 1\n",
    "    \\end{bmatrix}\n",
    "\\end{gather*} \n",
    "\n",
    "Do *frame* 1 até o *frame* 2, temos:\n",
    "\n",
    "\\begin{gather*} \n",
    "    _{1}^{2}{T} = \n",
    "    \\begin{bmatrix}\n",
    "    c\\left ( \\frac{2 \\theta_2 - \\pi}{2} \\right ) & -s\\left ( \\frac{2 \\theta_2 - \\pi}{2} \\right ) & 0 & 0.125c\\left ( \\frac{2 \\theta_2 - \\pi}{2} \\right )\\\\ \n",
    "    s\\left ( \\frac{2 \\theta_2 - \\pi}{2} \\right ) & c\\left ( \\frac{2 \\theta_2 - \\pi}{2} \\right )  & 0 & 0.125s\\left ( \\frac{2 \\theta_2 - \\pi}{2} \\right )\\\\ \n",
    "    0                                            & 0                                             & 1 & 0\\\\ \n",
    "    0                                            & 0                                             & 0 & 1\n",
    "    \\end{bmatrix}\n",
    "\\end{gather*} \n",
    "\n",
    "Do *frame* 2 até o *frame* 3, temos:\n",
    "\n",
    "\\begin{gather*} \n",
    "    _{2}^{3}{T} = \n",
    "    \\begin{bmatrix}\n",
    "    c\\left ( \\frac{2 \\theta_3 + \\pi}{2} \\right ) & -s\\left ( \\frac{2 \\theta_3 + \\pi}{2} \\right)  & 0 & 0.096c\\left ( \\frac{2 \\theta_3 + \\pi}{2} \\right )\\\\ \n",
    "    s\\left ( \\frac{2 \\theta_3 + \\pi}{2} \\right ) & c\\left ( \\frac{2 \\theta_3 + \\pi}{2} \\right )  & 0 & 0.096s\\left ( \\frac{2 \\theta_3 + \\pi}{2} \\right )\\\\ \n",
    "    0                                            & 0                                             & 1 & 0\\\\ \n",
    "    0                                            & 0                                             & 0 & 1\n",
    "    \\end{bmatrix}\n",
    "\\end{gather*} \n",
    "\n",
    "Do *frame* 3 até o *frame* 4, temos:\n",
    "\n",
    "\\begin{gather*} \n",
    "    _{3}^{4}{T} = \n",
    "    \\begin{bmatrix}\n",
    "    0 & 0 & 1 & 0\\\\ \n",
    "    1 & 0 & 0 & -0.0275\\\\ \n",
    "    0 & 1 & 0 & 0\\\\ \n",
    "    0 & 0 & 0 & 1\n",
    "    \\end{bmatrix}\n",
    "\\end{gather*} \n",
    "\n",
    "Do *frame* 4 até o *frame* 5, temos:\n",
    "\n",
    "\\begin{gather*} \n",
    "    _{4}^{5}{T} = \n",
    "    \\begin{bmatrix}\n",
    "    1 & 0 & 0 & 0\\\\ \n",
    "    0 & 1 & 0 & 0\\\\ \n",
    "    0 & 0 & 1 & 0.065\\\\ \n",
    "    0 & 0 & 0 & 1\n",
    "    \\end{bmatrix}\n",
    "\\end{gather*} \n",
    "\n",
    "Dessa forma:"
   ]
  },
  {
   "cell_type": "code",
   "execution_count": 32,
   "metadata": {},
   "outputs": [],
   "source": [
    "#Matrizes de trans. homogênea\n",
    "\n",
    "T0_1 = np.array([[c(t1), 0, -s(t1), 0,],\n",
    "                 [s(t1), 0,  c(t1), 0,],\n",
    "                 [0,       -1,        0,  0.11,],\n",
    "                 [0,        0,        0,  1]])\n",
    "\n",
    "T1_2 = np.array([[c((2*t2-pi)/2),-s((2*t2-pi)/2),  0, 0.125*c((2*t2-pi)/2)],\n",
    "                 [s((2*t2-pi)/2), c((2*t2-pi)/2),  0, 0.125*s((2*t2-pi)/2)],\n",
    "                 [             0,              0,  1,                    0],\n",
    "                 [             0,              0,  0,                    1]])\n",
    "\n",
    "T2_3 = np.array([[c((2*t3+pi)/2),-s((2*t3+pi)/2),  0, 0.096*c((2*t3+pi)/2)],\n",
    "                 [s((2*t3+pi)/2), c((2*t3+pi)/2),  0, 0.096*s((2*t3+pi)/2)],\n",
    "                 [0,           0, 1,                                     0],\n",
    "                 [0,           0, 0,                                     1]])\n",
    "\n",
    "T3_4 = np.array([[0, 0,  1,       0],\n",
    "                 [1, 0,  0, -0.0275],\n",
    "                 [0, 1,  0,       0],\n",
    "                 [0, 0,  0,       1]])\n",
    "\n",
    "T4_5 = np.array([[1, 0, 0,     0],\n",
    "                 [0, 1, 0,     0],\n",
    "                 [0, 0, 1, 0.065],\n",
    "                 [0, 0, 0,     1]])"
   ]
  },
  {
   "attachments": {},
   "cell_type": "markdown",
   "metadata": {},
   "source": [
    "### Portanto, temos a seguinte matriz de transformação que leva do *frame* 0 até o *frame* 5:\n",
    "\n",
    "\\begin{gather*} \n",
    "    _{0}^{5}{T} = _{0}^{1}{T}\\cdot_{1}^{2}{T}\\cdot_{2}^{3}{T}\\cdot_{3}^{4}{T}\\cdot_{4}^{5}{T}\n",
    "\\end{gather*} "
   ]
  },
  {
   "cell_type": "code",
   "execution_count": 33,
   "metadata": {},
   "outputs": [
    {
     "data": {
      "text/latex": [
       "$\\displaystyle \\left[\\begin{matrix}- 1.0 \\sin{\\left(\\theta_{2} + \\theta_{3} \\right)} \\cos{\\left(\\theta_{1} \\right)} & - 1.0 \\sin{\\left(\\theta_{1} \\right)} & 1.0 \\cos{\\left(\\theta_{2} + \\theta_{3} \\right)} \\cos{\\left(\\theta_{1} \\right)} & \\left(0.0275 \\sin{\\left(\\theta_{2} + \\theta_{3} \\right)} + 0.125 \\cos{\\left(\\frac{\\pi}{2} - \\theta_{2} \\right)} + 0.161 \\cos{\\left(\\theta_{2} + \\theta_{3} \\right)}\\right) \\cos{\\left(\\theta_{1} \\right)}\\\\- 1.0 \\sin{\\left(\\theta_{2} + \\theta_{3} \\right)} \\sin{\\left(\\theta_{1} \\right)} & 1.0 \\cos{\\left(\\theta_{1} \\right)} & 1.0 \\sin{\\left(\\theta_{1} \\right)} \\cos{\\left(\\theta_{2} + \\theta_{3} \\right)} & \\left(0.0275 \\sin{\\left(\\theta_{2} + \\theta_{3} \\right)} + 0.125 \\cos{\\left(\\frac{\\pi}{2} - \\theta_{2} \\right)} + 0.161 \\cos{\\left(\\theta_{2} + \\theta_{3} \\right)}\\right) \\sin{\\left(\\theta_{1} \\right)}\\\\- 1.0 \\cos{\\left(\\theta_{2} + \\theta_{3} \\right)} & 0 & - 1.0 \\sin{\\left(\\theta_{2} + \\theta_{3} \\right)} & 0.125 \\sin{\\left(\\frac{\\pi}{2} - \\theta_{2} \\right)} - 0.161 \\sin{\\left(\\theta_{2} + \\theta_{3} \\right)} + 0.0275 \\cos{\\left(\\theta_{2} + \\theta_{3} \\right)} + 0.11\\\\0 & 0 & 0 & 1.0\\end{matrix}\\right]$"
      ],
      "text/plain": [
       "⎡                                                                             \n",
       "⎢-1.0⋅sin(\\theta₂ + \\theta₃)⋅cos(\\theta₁)  -1.0⋅sin(\\theta₁)  1.0⋅cos(\\theta₂ \n",
       "⎢                                                                             \n",
       "⎢                                                                             \n",
       "⎢                                                                             \n",
       "⎢-1.0⋅sin(\\theta₂ + \\theta₃)⋅sin(\\theta₁)  1.0⋅cos(\\theta₁)   1.0⋅sin(\\theta₁)\n",
       "⎢                                                                             \n",
       "⎢                                                                             \n",
       "⎢                                                                             \n",
       "⎢      -1.0⋅cos(\\theta₂ + \\theta₃)                 0                -1.0⋅sin(\\\n",
       "⎢                                                                             \n",
       "⎢                                                                             \n",
       "⎣                   0                              0                          \n",
       "\n",
       "                         ⎛                                         ⎛\\pi       \n",
       "+ \\theta₃)⋅cos(\\theta₁)  ⎜0.0275⋅sin(\\theta₂ + \\theta₃) + 0.125⋅cos⎜─── - \\the\n",
       "                         ⎝                                         ⎝ 2        \n",
       "                                                                              \n",
       "                         ⎛                                         ⎛\\pi       \n",
       "⋅cos(\\theta₂ + \\theta₃)  ⎜0.0275⋅sin(\\theta₂ + \\theta₃) + 0.125⋅cos⎜─── - \\the\n",
       "                         ⎝                                         ⎝ 2        \n",
       "                                                                              \n",
       "                                      ⎛\\pi          ⎞                         \n",
       "theta₂ + \\theta₃)            0.125⋅sin⎜─── - \\theta₂⎟ - 0.161⋅sin(\\theta₂ + \\t\n",
       "                                      ⎝ 2           ⎠                         \n",
       "                                                                              \n",
       "   0                                                                      1.0 \n",
       "\n",
       "   ⎞                               ⎞             ⎤\n",
       "ta₂⎟ + 0.161⋅cos(\\theta₂ + \\theta₃)⎟⋅cos(\\theta₁)⎥\n",
       "   ⎠                               ⎠             ⎥\n",
       "                                                 ⎥\n",
       "   ⎞                               ⎞             ⎥\n",
       "ta₂⎟ + 0.161⋅cos(\\theta₂ + \\theta₃)⎟⋅sin(\\theta₁)⎥\n",
       "   ⎠                               ⎠             ⎥\n",
       "                                                 ⎥\n",
       "                                                 ⎥\n",
       "heta₃) + 0.0275⋅cos(\\theta₂ + \\theta₃) + 0.11    ⎥\n",
       "                                                 ⎥\n",
       "                                                 ⎥\n",
       "                                                 ⎦"
      ]
     },
     "execution_count": 33,
     "metadata": {},
     "output_type": "execute_result"
    }
   ],
   "source": [
    "#Cinemática direta\n",
    "FKine = T0_1 @ T1_2 @ T2_3 @ T3_4 @ T4_5\n",
    "Matrix(simplify(FKine))"
   ]
  },
  {
   "cell_type": "code",
   "execution_count": 34,
   "metadata": {},
   "outputs": [],
   "source": [
    "#P = [x , y, z]^T\n",
    "T_x = simplify(FKine[0][3])\n",
    "T_y = simplify(FKine[1][3])\n",
    "T_z = simplify(FKine[2][3])"
   ]
  },
  {
   "attachments": {},
   "cell_type": "markdown",
   "metadata": {},
   "source": [
    "### Por fim, obtemos a seguinte matriz Jacobiana analítica:"
   ]
  },
  {
   "cell_type": "code",
   "execution_count": 35,
   "metadata": {},
   "outputs": [
    {
     "data": {
      "text/latex": [
       "$\\displaystyle \\left[\\begin{matrix}- \\left(0.0275 \\sin{\\left(\\theta_{2} + \\theta_{3} \\right)} + 0.125 \\cos{\\left(\\frac{\\pi}{2} - \\theta_{2} \\right)} + 0.161 \\cos{\\left(\\theta_{2} + \\theta_{3} \\right)}\\right) \\sin{\\left(\\theta_{1} \\right)} & \\left(0.125 \\sin{\\left(\\frac{\\pi}{2} - \\theta_{2} \\right)} - 0.161 \\sin{\\left(\\theta_{2} + \\theta_{3} \\right)} + 0.0275 \\cos{\\left(\\theta_{2} + \\theta_{3} \\right)}\\right) \\cos{\\left(\\theta_{1} \\right)} & \\left(- 0.161 \\sin{\\left(\\theta_{2} + \\theta_{3} \\right)} + 0.0275 \\cos{\\left(\\theta_{2} + \\theta_{3} \\right)}\\right) \\cos{\\left(\\theta_{1} \\right)}\\\\\\left(0.0275 \\sin{\\left(\\theta_{2} + \\theta_{3} \\right)} + 0.125 \\cos{\\left(\\frac{\\pi}{2} - \\theta_{2} \\right)} + 0.161 \\cos{\\left(\\theta_{2} + \\theta_{3} \\right)}\\right) \\cos{\\left(\\theta_{1} \\right)} & \\left(0.125 \\sin{\\left(\\frac{\\pi}{2} - \\theta_{2} \\right)} - 0.161 \\sin{\\left(\\theta_{2} + \\theta_{3} \\right)} + 0.0275 \\cos{\\left(\\theta_{2} + \\theta_{3} \\right)}\\right) \\sin{\\left(\\theta_{1} \\right)} & - 0.0275 \\sin{\\left(\\theta_{2} + \\theta_{3} \\right)} - 0.161 \\cos{\\left(\\theta_{2} + \\theta_{3} \\right)}\\\\0 & - 0.0275 \\sin{\\left(\\theta_{2} + \\theta_{3} \\right)} - 0.125 \\cos{\\left(\\frac{\\pi}{2} - \\theta_{2} \\right)} - 0.161 \\cos{\\left(\\theta_{2} + \\theta_{3} \\right)} & - 0.0275 \\sin{\\left(\\theta_{2} + \\theta_{3} \\right)} - 0.161 \\cos{\\left(\\theta_{2} + \\theta_{3} \\right)}\\end{matrix}\\right]$"
      ],
      "text/plain": [
       "⎡ ⎛                                         ⎛\\pi          ⎞                   \n",
       "⎢-⎜0.0275⋅sin(\\theta₂ + \\theta₃) + 0.125⋅cos⎜─── - \\theta₂⎟ + 0.161⋅cos(\\theta\n",
       "⎢ ⎝                                         ⎝ 2           ⎠                   \n",
       "⎢                                                                             \n",
       "⎢⎛                                         ⎛\\pi          ⎞                    \n",
       "⎢⎜0.0275⋅sin(\\theta₂ + \\theta₃) + 0.125⋅cos⎜─── - \\theta₂⎟ + 0.161⋅cos(\\theta₂\n",
       "⎢⎝                                         ⎝ 2           ⎠                    \n",
       "⎢                                                                             \n",
       "⎢                                                                             \n",
       "⎢                                                   0                         \n",
       "⎣                                                                             \n",
       "\n",
       "            ⎞               ⎛         ⎛\\pi          ⎞                         \n",
       "₂ + \\theta₃)⎟⋅sin(\\theta₁)  ⎜0.125⋅sin⎜─── - \\theta₂⎟ - 0.161⋅sin(\\theta₂ + \\t\n",
       "            ⎠               ⎝         ⎝ 2           ⎠                         \n",
       "                                                                              \n",
       "           ⎞                ⎛         ⎛\\pi          ⎞                         \n",
       " + \\theta₃)⎟⋅cos(\\theta₁)   ⎜0.125⋅sin⎜─── - \\theta₂⎟ - 0.161⋅sin(\\theta₂ + \\t\n",
       "           ⎠                ⎝         ⎝ 2           ⎠                         \n",
       "                                                                              \n",
       "                                                                             ⎛\n",
       "                                   -0.0275⋅sin(\\theta₂ + \\theta₃) - 0.125⋅cos⎜\n",
       "                                                                             ⎝\n",
       "\n",
       "                                      ⎞                                       \n",
       "heta₃) + 0.0275⋅cos(\\theta₂ + \\theta₃)⎟⋅cos(\\theta₁)  (-0.161⋅sin(\\theta₂ + \\t\n",
       "                                      ⎠                                       \n",
       "                                                                              \n",
       "                                      ⎞                                       \n",
       "heta₃) + 0.0275⋅cos(\\theta₂ + \\theta₃)⎟⋅sin(\\theta₁)         -0.0275⋅sin(\\thet\n",
       "                                      ⎠                                       \n",
       "                                                                              \n",
       "\\pi          ⎞                                                                \n",
       "─── - \\theta₂⎟ - 0.161⋅cos(\\theta₂ + \\theta₃)                -0.0275⋅sin(\\thet\n",
       " 2           ⎠                                                                \n",
       "\n",
       "                                                    ⎤\n",
       "heta₃) + 0.0275⋅cos(\\theta₂ + \\theta₃))⋅cos(\\theta₁)⎥\n",
       "                                                    ⎥\n",
       "                                                    ⎥\n",
       "                                                    ⎥\n",
       "a₂ + \\theta₃) - 0.161⋅cos(\\theta₂ + \\theta₃)        ⎥\n",
       "                                                    ⎥\n",
       "                                                    ⎥\n",
       "                                                    ⎥\n",
       "a₂ + \\theta₃) - 0.161⋅cos(\\theta₂ + \\theta₃)        ⎥\n",
       "                                                    ⎦"
      ]
     },
     "execution_count": 35,
     "metadata": {},
     "output_type": "execute_result"
    }
   ],
   "source": [
    "#Matriz Jacobiana analítica com as derivadas parciais\n",
    "Matrix([[df(T_x, t1), df(T_x, t2), df(T_x, t3)],\n",
    "        [df(T_y, t1), df(T_y, t2), df(T_z, t3)],\n",
    "        [df(T_z, t1), df(T_z, t2), df(T_z, t3)]])"
   ]
  },
  {
   "attachments": {},
   "cell_type": "markdown",
   "metadata": {},
   "source": [
    "<center><strong><h3>3. Lagrangiana Analítica </h3></strong></center>"
   ]
  },
  {
   "attachments": {},
   "cell_type": "markdown",
   "metadata": {},
   "source": [
    "### Partindo do seguinte diagrama:\n",
    "\n",
    "<image src= https://raw.githubusercontent.com/Tayco110/Robotics/main/mcdr/2.png>"
   ]
  },
  {
   "attachments": {},
   "cell_type": "markdown",
   "metadata": {},
   "source": [
    "### Podemos determinar a seguinte tabela de parâmetros DH para os centros de massa:\n",
    "\n",
    "<image src= https://raw.githubusercontent.com/Tayco110/Robotics/main/mcdr/1.png>"
   ]
  },
  {
   "attachments": {},
   "cell_type": "markdown",
   "metadata": {},
   "source": [
    "### Montando as devidas matrizes de transformação, podemos obter as coodernadas dos pontos $x$, $y$ e $z$ de cada centro de massa $m$."
   ]
  },
  {
   "attachments": {},
   "cell_type": "markdown",
   "metadata": {},
   "source": [
    "### Posição do ponto 2:"
   ]
  },
  {
   "cell_type": "code",
   "execution_count": 36,
   "metadata": {},
   "outputs": [
    {
     "data": {
      "text/latex": [
       "$\\displaystyle \\left[\\begin{matrix}L_{2} \\cos{\\left(\\theta_{1} \\right)} \\cos{\\left(\\theta_{2} \\right)}\\\\L_{2} \\sin{\\left(\\theta_{1} \\right)} \\cos{\\left(\\theta_{2} \\right)}\\\\- L_{2} \\sin{\\left(\\theta_{2} \\right)}\\end{matrix}\\right]$"
      ],
      "text/plain": [
       "⎡L₂⋅cos(\\theta₁)⋅cos(\\theta₂)⎤\n",
       "⎢                            ⎥\n",
       "⎢L₂⋅sin(\\theta₁)⋅cos(\\theta₂)⎥\n",
       "⎢                            ⎥\n",
       "⎣      -L₂⋅sin(\\theta₂)      ⎦"
      ]
     },
     "execution_count": 36,
     "metadata": {},
     "output_type": "execute_result"
    }
   ],
   "source": [
    "#Posição do ponto 2\n",
    "P2 = [[L2 * c(t1) * c(t2)],\n",
    "      [L2 * s(t1) * c(t2)],\n",
    "      [-L2 * s(t2)]]\n",
    "Matrix(P2)"
   ]
  },
  {
   "attachments": {},
   "cell_type": "markdown",
   "metadata": {},
   "source": [
    "### Velocidade do ponto 2:"
   ]
  },
  {
   "cell_type": "code",
   "execution_count": 37,
   "metadata": {},
   "outputs": [
    {
     "data": {
      "text/latex": [
       "$\\displaystyle \\left[\\begin{matrix}- L_{2} \\sin{\\left(\\theta_{1} \\right)} \\cos{\\left(\\theta_{2} \\right)} \\dot{\\theta}_{1} - L_{2} \\sin{\\left(\\theta_{2} \\right)} \\cos{\\left(\\theta_{1} \\right)} \\dot{\\theta}_{2}\\\\- L_{2} \\sin{\\left(\\theta_{1} \\right)} \\sin{\\left(\\theta_{2} \\right)} \\dot{\\theta}_{2} + L_{2} \\cos{\\left(\\theta_{1} \\right)} \\cos{\\left(\\theta_{2} \\right)} \\dot{\\theta}_{1}\\\\- L_{2} \\cos{\\left(\\theta_{2} \\right)} \\dot{\\theta}_{2}\\end{matrix}\\right]$"
      ],
      "text/plain": [
       "⎡-L₂⋅sin(\\theta₁)⋅cos(\\theta₂)⋅\\thėta₁ - L₂⋅sin(\\theta₂)⋅cos(\\theta₁)⋅\\thėta₂⎤\n",
       "⎢                                                                            ⎥\n",
       "⎢-L₂⋅sin(\\theta₁)⋅sin(\\theta₂)⋅\\thėta₂ + L₂⋅cos(\\theta₁)⋅cos(\\theta₂)⋅\\thėta₁⎥\n",
       "⎢                                                                            ⎥\n",
       "⎣                          -L₂⋅cos(\\theta₂)⋅\\thėta₂                          ⎦"
      ]
     },
     "execution_count": 37,
     "metadata": {},
     "output_type": "execute_result"
    }
   ],
   "source": [
    "#Velocidade do ponto 2\n",
    "x2_dot , y2_dot, z2_dot = df(P2[0][0],t), df(P2[1][0],t), df(P2[2][0],t)\n",
    "Matrix([x2_dot, y2_dot, z2_dot])"
   ]
  },
  {
   "attachments": {},
   "cell_type": "markdown",
   "metadata": {},
   "source": [
    "### Posição do ponto 3:"
   ]
  },
  {
   "cell_type": "code",
   "execution_count": 38,
   "metadata": {},
   "outputs": [
    {
     "data": {
      "text/latex": [
       "$\\displaystyle \\left[\\begin{matrix}2 L_{2} \\cos{\\left(\\theta_{1} \\right)} \\cos{\\left(\\theta_{2} \\right)} + L_{3} \\left(- \\sin{\\left(\\theta_{2} \\right)} \\sin{\\left(\\theta_{3} \\right)} + \\cos{\\left(\\theta_{2} \\right)} \\cos{\\left(\\theta_{3} \\right)}\\right) \\cos{\\left(\\theta_{1} \\right)}\\\\2 L_{2} \\sin{\\left(\\theta_{1} \\right)} \\cos{\\left(\\theta_{2} \\right)} + L_{3} \\left(- \\sin{\\left(\\theta_{2} \\right)} \\sin{\\left(\\theta_{3} \\right)} + \\cos{\\left(\\theta_{2} \\right)} \\cos{\\left(\\theta_{3} \\right)}\\right) \\sin{\\left(\\theta_{1} \\right)}\\\\- 2 L_{2} \\sin{\\left(\\theta_{2} \\right)} - L_{3} \\left(\\sin{\\left(\\theta_{2} \\right)} \\cos{\\left(\\theta_{3} \\right)} + \\sin{\\left(\\theta_{3} \\right)} \\cos{\\left(\\theta_{2} \\right)}\\right)\\end{matrix}\\right]$"
      ],
      "text/plain": [
       "⎡2⋅L₂⋅cos(\\theta₁)⋅cos(\\theta₂) + L₃⋅(-sin(\\theta₂)⋅sin(\\theta₃) + cos(\\theta₂\n",
       "⎢                                                                             \n",
       "⎢2⋅L₂⋅sin(\\theta₁)⋅cos(\\theta₂) + L₃⋅(-sin(\\theta₂)⋅sin(\\theta₃) + cos(\\theta₂\n",
       "⎢                                                                             \n",
       "⎣             -2⋅L₂⋅sin(\\theta₂) - L₃⋅(sin(\\theta₂)⋅cos(\\theta₃) + sin(\\theta₃\n",
       "\n",
       ")⋅cos(\\theta₃))⋅cos(\\theta₁)⎤\n",
       "                            ⎥\n",
       ")⋅cos(\\theta₃))⋅sin(\\theta₁)⎥\n",
       "                            ⎥\n",
       ")⋅cos(\\theta₂))             ⎦"
      ]
     },
     "execution_count": 38,
     "metadata": {},
     "output_type": "execute_result"
    }
   ],
   "source": [
    "#Posição do ponto 3\n",
    "P3 = [[L3 * c(t1) * (c(t2)*c(t3) - s(t2)*s(t3)) + 2*P2[0][0]],\n",
    "      [L3 * s(t1) * (c(t2)*c(t3) - s(t2)*s(t3)) + 2*P2[1][0]],\n",
    "      [-L3 * (s(t2)*c(t3) + c(t2)*s(t3)) + 2*P2[2][0]]]\n",
    "Matrix(P3)"
   ]
  },
  {
   "attachments": {},
   "cell_type": "markdown",
   "metadata": {},
   "source": [
    "### Velocidade do ponto 3:"
   ]
  },
  {
   "cell_type": "code",
   "execution_count": 39,
   "metadata": {},
   "outputs": [
    {
     "data": {
      "text/latex": [
       "$\\displaystyle \\left[\\begin{matrix}- 2 L_{2} \\sin{\\left(\\theta_{1} \\right)} \\cos{\\left(\\theta_{2} \\right)} \\dot{\\theta}_{1} - 2 L_{2} \\sin{\\left(\\theta_{2} \\right)} \\cos{\\left(\\theta_{1} \\right)} \\dot{\\theta}_{2} - L_{3} \\left(- \\sin{\\left(\\theta_{2} \\right)} \\sin{\\left(\\theta_{3} \\right)} + \\cos{\\left(\\theta_{2} \\right)} \\cos{\\left(\\theta_{3} \\right)}\\right) \\sin{\\left(\\theta_{1} \\right)} \\dot{\\theta}_{1} + L_{3} \\left(- \\sin{\\left(\\theta_{2} \\right)} \\cos{\\left(\\theta_{3} \\right)} \\dot{\\theta}_{2} - \\sin{\\left(\\theta_{2} \\right)} \\cos{\\left(\\theta_{3} \\right)} \\dot{\\theta}_{3} - \\sin{\\left(\\theta_{3} \\right)} \\cos{\\left(\\theta_{2} \\right)} \\dot{\\theta}_{2} - \\sin{\\left(\\theta_{3} \\right)} \\cos{\\left(\\theta_{2} \\right)} \\dot{\\theta}_{3}\\right) \\cos{\\left(\\theta_{1} \\right)}\\\\- 2 L_{2} \\sin{\\left(\\theta_{1} \\right)} \\sin{\\left(\\theta_{2} \\right)} \\dot{\\theta}_{2} + 2 L_{2} \\cos{\\left(\\theta_{1} \\right)} \\cos{\\left(\\theta_{2} \\right)} \\dot{\\theta}_{1} + L_{3} \\left(- \\sin{\\left(\\theta_{2} \\right)} \\sin{\\left(\\theta_{3} \\right)} + \\cos{\\left(\\theta_{2} \\right)} \\cos{\\left(\\theta_{3} \\right)}\\right) \\cos{\\left(\\theta_{1} \\right)} \\dot{\\theta}_{1} + L_{3} \\left(- \\sin{\\left(\\theta_{2} \\right)} \\cos{\\left(\\theta_{3} \\right)} \\dot{\\theta}_{2} - \\sin{\\left(\\theta_{2} \\right)} \\cos{\\left(\\theta_{3} \\right)} \\dot{\\theta}_{3} - \\sin{\\left(\\theta_{3} \\right)} \\cos{\\left(\\theta_{2} \\right)} \\dot{\\theta}_{2} - \\sin{\\left(\\theta_{3} \\right)} \\cos{\\left(\\theta_{2} \\right)} \\dot{\\theta}_{3}\\right) \\sin{\\left(\\theta_{1} \\right)}\\\\- 2 L_{2} \\cos{\\left(\\theta_{2} \\right)} \\dot{\\theta}_{2} - L_{3} \\left(- \\sin{\\left(\\theta_{2} \\right)} \\sin{\\left(\\theta_{3} \\right)} \\dot{\\theta}_{2} - \\sin{\\left(\\theta_{2} \\right)} \\sin{\\left(\\theta_{3} \\right)} \\dot{\\theta}_{3} + \\cos{\\left(\\theta_{2} \\right)} \\cos{\\left(\\theta_{3} \\right)} \\dot{\\theta}_{2} + \\cos{\\left(\\theta_{2} \\right)} \\cos{\\left(\\theta_{3} \\right)} \\dot{\\theta}_{3}\\right)\\end{matrix}\\right]$"
      ],
      "text/plain": [
       "⎡-2⋅L₂⋅sin(\\theta₁)⋅cos(\\theta₂)⋅\\thėta₁ - 2⋅L₂⋅sin(\\theta₂)⋅cos(\\theta₁)⋅\\th\n",
       "⎢                                                                             \n",
       "⎢-2⋅L₂⋅sin(\\theta₁)⋅sin(\\theta₂)⋅\\thėta₂ + 2⋅L₂⋅cos(\\theta₁)⋅cos(\\theta₂)⋅\\th\n",
       "⎢                                                                             \n",
       "⎣                                                                           -2\n",
       "\n",
       "ėta₂ - L₃⋅(-sin(\\theta₂)⋅sin(\\theta₃) + cos(\\theta₂)⋅cos(\\theta₃))⋅sin(\\theta\n",
       "                                                                              \n",
       "ėta₁ + L₃⋅(-sin(\\theta₂)⋅sin(\\theta₃) + cos(\\theta₂)⋅cos(\\theta₃))⋅cos(\\theta\n",
       "                                                                              \n",
       "⋅L₂⋅cos(\\theta₂)⋅\\thėta₂ - L₃⋅(-sin(\\theta₂)⋅sin(\\theta₃)⋅\\thėta₂ - sin(\\the\n",
       "\n",
       "₁)⋅\\thėta₁ + L₃⋅(-sin(\\theta₂)⋅cos(\\theta₃)⋅\\thėta₂ - sin(\\theta₂)⋅cos(\\thet\n",
       "                                                                              \n",
       "₁)⋅\\thėta₁ + L₃⋅(-sin(\\theta₂)⋅cos(\\theta₃)⋅\\thėta₂ - sin(\\theta₂)⋅cos(\\thet\n",
       "                                                                              \n",
       "ta₂)⋅sin(\\theta₃)⋅\\thėta₃ + cos(\\theta₂)⋅cos(\\theta₃)⋅\\thėta₂ + cos(\\theta₂)\n",
       "\n",
       "a₃)⋅\\thėta₃ - sin(\\theta₃)⋅cos(\\theta₂)⋅\\thėta₂ - sin(\\theta₃)⋅cos(\\theta₂)⋅\n",
       "                                                                              \n",
       "a₃)⋅\\thėta₃ - sin(\\theta₃)⋅cos(\\theta₂)⋅\\thėta₂ - sin(\\theta₃)⋅cos(\\theta₂)⋅\n",
       "                                                                              \n",
       "⋅cos(\\theta₃)⋅\\thėta₃)                                                       \n",
       "\n",
       "\\thėta₃)⋅cos(\\theta₁)⎤\n",
       "               ⎥\n",
       "\\thėta₃)⋅sin(\\theta₁)⎥\n",
       "               ⎥\n",
       "                    ⎦"
      ]
     },
     "execution_count": 39,
     "metadata": {},
     "output_type": "execute_result"
    }
   ],
   "source": [
    "#Velocidade do ponto 3\n",
    "x3_dot , y3_dot, z3_dot = df(P3[0][0],t), df(P3[1][0],t), df(P3[2][0],t)\n",
    "Matrix([x3_dot, y3_dot, z3_dot])"
   ]
  },
  {
   "attachments": {},
   "cell_type": "markdown",
   "metadata": {},
   "source": [
    "Na Formulação de Lagrange, um conjunto de   variáveis $q_i$, $i$ = $1,...,n$, denominadas coordenadas generalizadas, são escolhidas para descrever a posição da junta de um manipulador com $n$ \\textit{DOF}, o Lagrangiano de um sistema dinâmico pode ser definido como uma função de coordenadas(SCIAVICCO; SICILIANO, 2012):\n",
    "\\begin{gather*}\n",
    "        \\mathcal{L} = \\mathcal{T} - \\mathcal{U}\n",
    "\\end{gather*}\n",
    "    onde $\\mathcal{T}$ e $\\mathcal{U}$ denotam, respectivamente, a energia cinética e a energia potencial do sistema. Dessa forma, As equações Lagrangianas são expressas na forma:\n",
    "\\begin{gather*}\n",
    "        \\frac{d}{dt} \\frac{\\partial \\mathcal{L}}{\\partial \\dot{q_i}} - \\frac{\\partial \\mathcal{L}}{\\partial {q_i}} = \\xi_i\n",
    "\\end{gather*}\n",
    "    onde $\\xi_i$ é a força generalizada associada à coordenada generalizada $q_i$. Dessa forma:"
   ]
  },
  {
   "cell_type": "code",
   "execution_count": 40,
   "metadata": {},
   "outputs": [
    {
     "data": {
      "text/latex": [
       "$\\displaystyle \\frac{L_{2}^{2} m_{2} \\left(\\cos^{2}{\\left(\\theta_{2} \\right)} \\dot{\\theta}_{1}^{2} + \\dot{\\theta}_{2}^{2}\\right)}{2} + L_{2} g m_{2} \\sin{\\left(\\theta_{2} \\right)} + g m_{3} \\cdot \\left(2 L_{2} \\sin{\\left(\\theta_{2} \\right)} + L_{3} \\sin{\\left(\\theta_{2} + \\theta_{3} \\right)}\\right) + \\frac{m_{3} \\cdot \\left(4 L_{2}^{2} \\cos^{2}{\\left(\\theta_{2} \\right)} \\dot{\\theta}_{1}^{2} + 4 L_{2}^{2} \\dot{\\theta}_{2}^{2} + 4 L_{2} L_{3} \\cos{\\left(\\theta_{2} + \\theta_{3} \\right)} \\cos{\\left(\\theta_{2} \\right)} \\dot{\\theta}_{1}^{2} + 4 L_{2} L_{3} \\cos{\\left(\\theta_{3} \\right)} \\dot{\\theta}_{2}^{2} + 4 L_{2} L_{3} \\cos{\\left(\\theta_{3} \\right)} \\dot{\\theta}_{2} \\dot{\\theta}_{3} - 2 L_{3}^{2} \\sin{\\left(\\theta_{2} \\right)} \\sin{\\left(\\theta_{3} \\right)} \\cos{\\left(\\theta_{2} + \\theta_{3} \\right)} \\dot{\\theta}_{1}^{2} + L_{3}^{2} \\cos^{2}{\\left(\\theta_{2} \\right)} \\dot{\\theta}_{1}^{2} + L_{3}^{2} \\cos^{2}{\\left(\\theta_{3} \\right)} \\dot{\\theta}_{1}^{2} - L_{3}^{2} \\dot{\\theta}_{1}^{2} + L_{3}^{2} \\dot{\\theta}_{2}^{2} + 2 L_{3}^{2} \\dot{\\theta}_{2} \\dot{\\theta}_{3} + L_{3}^{2} \\dot{\\theta}_{3}^{2}\\right)}{2}$"
      ],
      "text/plain": [
       "  2    ⎛   2                 2          2⎞                                    \n",
       "L₂ ⋅m₂⋅⎝cos (\\theta₂)⋅\\thėta₁  + \\thėta₂ ⎠                                  \n",
       "────────────────────────────────────────── + L₂⋅g⋅m₂⋅sin(\\theta₂) + g⋅m₃⋅(2⋅L₂\n",
       "                    2                                                         \n",
       "\n",
       "                                                ⎛    2    2                 2 \n",
       "                                               m₃⋅⎝4⋅L₂ ⋅cos (\\theta₂)⋅\\thėta\n",
       "⋅sin(\\theta₂) + L₃⋅sin(\\theta₂ + \\theta₃)) + ─────────────────────────────────\n",
       "                                                                              \n",
       "\n",
       "      2        2                                                      2       \n",
       "₁  + 4⋅L₂ ⋅\\thėta₂  + 4⋅L₂⋅L₃⋅cos(\\theta₂ + \\theta₃)⋅cos(\\theta₂)⋅\\thėta₁  +\n",
       "──────────────────────────────────────────────────────────────────────────────\n",
       "                                                                              \n",
       "\n",
       "                        2                                              2      \n",
       " 4⋅L₂⋅L₃⋅cos(\\theta₃)⋅\\thėta₂  + 4⋅L₂⋅L₃⋅cos(\\theta₃)⋅\\thėta₂⋅\\thėta₃ - 2⋅L\n",
       "──────────────────────────────────────────────────────────────────────────────\n",
       "                                                                         2    \n",
       "\n",
       "                                                   2     2    2               \n",
       "₃ ⋅sin(\\theta₂)⋅sin(\\theta₃)⋅cos(\\theta₂ + \\theta₃)⋅\\thėta₁  + L₃ ⋅cos (\\thet\n",
       "──────────────────────────────────────────────────────────────────────────────\n",
       "                                                                              \n",
       "\n",
       "  2     2    2                 2     2        2     2        2       2        \n",
       "a₂)⋅\\thėta₁  + L₃ ⋅cos (\\theta₃)⋅\\thėta₁  - L₃ ⋅\\thėta₁  + L₃ ⋅\\thėta₂  + \n",
       "──────────────────────────────────────────────────────────────────────────────\n",
       "                                                                              \n",
       "\n",
       "             2        2⎞\n",
       "2⋅L₃ ⋅\\thėta₂⋅\\thėta₃ + L₃ ⋅\\thėta₃ ⎠\n",
       "────────────────────────\n",
       "                        "
      ]
     },
     "execution_count": 40,
     "metadata": {},
     "output_type": "execute_result"
    }
   ],
   "source": [
    "#Lagrangenana\n",
    "T = (m2 / 2) * (x2_dot**2 + y2_dot**2 + z2_dot**2) + (m3 / 2) * (x3_dot**2 + y3_dot**2 + z3_dot**2)\n",
    "U = -m2 * g * L2 * s(t2) - m3 * g * (L3 * s(t2 + t3) + 2 * L2 * s(t2))\n",
    "L = T - U\n",
    "\n",
    "simplify(L)"
   ]
  },
  {
   "attachments": {},
   "cell_type": "markdown",
   "metadata": {},
   "source": [
    "Logo, os valores de $\\tau$ para as juntas são:"
   ]
  },
  {
   "cell_type": "code",
   "execution_count": 41,
   "metadata": {},
   "outputs": [
    {
     "data": {
      "text/latex": [
       "$\\displaystyle L_{2}^{2} m_{2} \\left(- \\sin{\\left(2 \\theta_{2} \\right)} \\dot{\\theta}_{1} \\dot{\\theta}_{2} + \\frac{\\cos{\\left(2 \\theta_{2} \\right)} \\ddot{\\theta}_{1}}{2} + \\frac{\\ddot{\\theta}_{1}}{2}\\right) + m_{3} \\cdot \\left(2 L_{2} \\cos{\\left(\\theta_{2} \\right)} + L_{3} \\cos{\\left(\\theta_{2} + \\theta_{3} \\right)}\\right) \\left(- 4 L_{2} \\sin{\\left(\\theta_{2} \\right)} \\dot{\\theta}_{1} \\dot{\\theta}_{2} + 2 L_{2} \\cos{\\left(\\theta_{2} \\right)} \\ddot{\\theta}_{1} - 2 L_{3} \\sin{\\left(\\theta_{2} + \\theta_{3} \\right)} \\dot{\\theta}_{1} \\dot{\\theta}_{2} - 2 L_{3} \\sin{\\left(\\theta_{2} + \\theta_{3} \\right)} \\dot{\\theta}_{1} \\dot{\\theta}_{3} + L_{3} \\cos{\\left(\\theta_{2} + \\theta_{3} \\right)} \\ddot{\\theta}_{1}\\right)$"
      ],
      "text/plain": [
       "  2    ⎛                                  cos(2⋅\\theta₂)⋅\\thëta₁   \\thëta₁⎞ \n",
       "L₂ ⋅m₂⋅⎜-sin(2⋅\\theta₂)⋅\\thėta₁⋅\\thėta₂ + ────────────────────── + ───────⎟ \n",
       "       ⎝                                            2                 2   ⎠   \n",
       "\n",
       "                                                                              \n",
       "+ m₃⋅(2⋅L₂⋅cos(\\theta₂) + L₃⋅cos(\\theta₂ + \\theta₃))⋅(-4⋅L₂⋅sin(\\theta₂)⋅\\thė\n",
       "                                                                              \n",
       "\n",
       "                                                                              \n",
       "ta₁⋅\\thėta₂ + 2⋅L₂⋅cos(\\theta₂)⋅\\thëta₁ - 2⋅L₃⋅sin(\\theta₂ + \\theta₃)⋅\\thėt\n",
       "                                                                              \n",
       "\n",
       "                                                                              \n",
       "a₁⋅\\thėta₂ - 2⋅L₃⋅sin(\\theta₂ + \\theta₃)⋅\\thėta₁⋅\\thėta₃ + L₃⋅cos(\\theta₂ +\n",
       "                                                                              \n",
       "\n",
       "           \n",
       " \\theta₃)⋅\\thëta₁)\n",
       "         "
      ]
     },
     "execution_count": 41,
     "metadata": {},
     "output_type": "execute_result"
    }
   ],
   "source": [
    "T1 = df(df(L, df(t1, t)), t) + df(L, t1); simplify(T1)  #Torque na junta 1"
   ]
  },
  {
   "cell_type": "code",
   "execution_count": 42,
   "metadata": {},
   "outputs": [
    {
     "data": {
      "text/latex": [
       "$\\displaystyle - \\frac{L_{2}^{2} m_{2} \\sin{\\left(2 \\theta_{2} \\right)} \\dot{\\theta}_{1}^{2}}{2} + L_{2}^{2} m_{2} \\ddot{\\theta}_{2} + L_{2} g m_{2} \\cos{\\left(\\theta_{2} \\right)} + g m_{3} \\cdot \\left(2 L_{2} \\cos{\\left(\\theta_{2} \\right)} + L_{3} \\cos{\\left(\\theta_{2} + \\theta_{3} \\right)}\\right) - m_{3} \\cdot \\left(2 L_{2}^{2} \\sin{\\left(2 \\theta_{2} \\right)} + 2 L_{2} L_{3} \\sin{\\left(2 \\theta_{2} + \\theta_{3} \\right)} + \\frac{L_{3}^{2} \\sin{\\left(2 \\theta_{2} + 2 \\theta_{3} \\right)}}{2}\\right) \\dot{\\theta}_{1}^{2} + m_{3} \\cdot \\left(4 L_{2}^{2} \\ddot{\\theta}_{2} - 4 L_{2} L_{3} \\sin{\\left(\\theta_{3} \\right)} \\dot{\\theta}_{2} \\dot{\\theta}_{3} - 2 L_{2} L_{3} \\sin{\\left(\\theta_{3} \\right)} \\dot{\\theta}_{3}^{2} + 4 L_{2} L_{3} \\cos{\\left(\\theta_{3} \\right)} \\ddot{\\theta}_{2} + 2 L_{2} L_{3} \\cos{\\left(\\theta_{3} \\right)} \\ddot{\\theta}_{3} + L_{3}^{2} \\ddot{\\theta}_{2} + L_{3}^{2} \\ddot{\\theta}_{3}\\right)$"
      ],
      "text/plain": [
       "    2                          2                                              \n",
       "  L₂ ⋅m₂⋅sin(2⋅\\theta₂)⋅\\thėta₁      2                                       \n",
       "- ────────────────────────────── + L₂ ⋅m₂⋅\\thëta₂ + L₂⋅g⋅m₂⋅cos(\\theta₂) + g⋅\n",
       "                2                                                             \n",
       "\n",
       "                                                       ⎛                      \n",
       "                                                        ⎜    2                \n",
       "m₃⋅(2⋅L₂⋅cos(\\theta₂) + L₃⋅cos(\\theta₂ + \\theta₃)) - m₃⋅⎜2⋅L₂ ⋅sin(2⋅\\theta₂) \n",
       "                                                       ⎝                      \n",
       "\n",
       "                                      2                           ⎞           \n",
       "                                     L₃ ⋅sin(2⋅\\theta₂ + 2⋅\\theta₃)⎟        2 \n",
       "+ 2⋅L₂⋅L₃⋅sin(2⋅\\theta₂ + \\theta₃) + ──────────────────────────────⎟⋅\\thėta₁ \n",
       "                                                  2               ⎠           \n",
       "\n",
       "                                                                              \n",
       "     ⎛    2                                                                   \n",
       " + m₃⋅⎝4⋅L₂ ⋅\\thëta₂ - 4⋅L₂⋅L₃⋅sin(\\theta₃)⋅\\thėta₂⋅\\thėta₃ - 2⋅L₂⋅L₃⋅sin(\\\n",
       "                                                                              \n",
       "\n",
       "                                                                              \n",
       "           2                                                                  \n",
       "theta₃)⋅\\thėta₃  + 4⋅L₂⋅L₃⋅cos(\\theta₃)⋅\\thëta₂ + 2⋅L₂⋅L₃⋅cos(\\theta₃)⋅\\thë\n",
       "                                                                              \n",
       "\n",
       "                        \n",
       " 2             2        ⎞\n",
       "ta₃ + L₃ ⋅\\thëta₂ + L₃ ⋅\\thëta₃⎠\n",
       "                        "
      ]
     },
     "execution_count": 42,
     "metadata": {},
     "output_type": "execute_result"
    }
   ],
   "source": [
    "T2 = df(df(L, df(t2, t)), t) + df(L, t2); simplify(T2) #Torque na junta 2 "
   ]
  },
  {
   "cell_type": "code",
   "execution_count": 43,
   "metadata": {},
   "outputs": [
    {
     "data": {
      "text/latex": [
       "$\\displaystyle L_{3} m_{3} \\left(- L_{2} \\sin{\\left(2 \\theta_{2} + \\theta_{3} \\right)} \\dot{\\theta}_{1}^{2} - L_{2} \\sin{\\left(\\theta_{3} \\right)} \\dot{\\theta}_{1}^{2} - 2 L_{2} \\sin{\\left(\\theta_{3} \\right)} \\dot{\\theta}_{2}^{2} - 4 L_{2} \\sin{\\left(\\theta_{3} \\right)} \\dot{\\theta}_{2} \\dot{\\theta}_{3} + 2 L_{2} \\cos{\\left(\\theta_{3} \\right)} \\ddot{\\theta}_{2} - \\frac{L_{3} \\sin{\\left(2 \\theta_{2} + 2 \\theta_{3} \\right)} \\dot{\\theta}_{1}^{2}}{2} + L_{3} \\ddot{\\theta}_{2} + L_{3} \\ddot{\\theta}_{3} + g \\cos{\\left(\\theta_{2} + \\theta_{3} \\right)}\\right)$"
      ],
      "text/plain": [
       "      ⎛                                                                       \n",
       "      ⎜                                     2                          2      \n",
       "L₃⋅m₃⋅⎜- L₂⋅sin(2⋅\\theta₂ + \\theta₃)⋅\\thėta₁  - L₂⋅sin(\\theta₃)⋅\\thėta₁  - 2\n",
       "      ⎝                                                                       \n",
       "\n",
       "                                                                              \n",
       "                      2                                                       \n",
       "⋅L₂⋅sin(\\theta₃)⋅\\thėta₂  - 4⋅L₂⋅sin(\\theta₃)⋅\\thėta₂⋅\\thėta₃ + 2⋅L₂⋅cos(\\t\n",
       "                                                                              \n",
       "\n",
       "                                                 2                            \n",
       "            L₃⋅sin(2⋅\\theta₂ + 2⋅\\theta₃)⋅\\thėta₁                            \n",
       "heta₃)⋅\\thëta₂ - ────────────────────────────────────── + L₃⋅\\thëta₂ + L₃⋅\\t\n",
       "                              2                                               \n",
       "\n",
       "                         ⎞\n",
       "                          ⎟\n",
       "hëta₃ + g⋅cos(\\theta₂ + \\theta₃)⎟\n",
       "                         ⎠"
      ]
     },
     "execution_count": 43,
     "metadata": {},
     "output_type": "execute_result"
    }
   ],
   "source": [
    "T3 = df(df(L, df(t3, t)), t) + df(L, t3); simplify(T3)  #Torque na junta 3"
   ]
  },
  {
   "attachments": {},
   "cell_type": "markdown",
   "metadata": {},
   "source": [
    "<center><strong><h3>4. Dinâmica no espaço de Trabalho </h3></strong></center>"
   ]
  },
  {
   "attachments": {},
   "cell_type": "markdown",
   "metadata": {},
   "source": [
    "Uma vez que temos os modelos analíticos de nossa Jacobiana e também da Lagrangiana, podemos montar a seguinte relação:\n",
    "\n",
    "\\begin{gather*}\n",
    "{J}^{-T} \\tau = {J}^{-T} M {J}^{-1} \\dot{\\mathcal{V}} - {J}^{-T}M {J}^{-1}\\dot{J}M {J}^{-1} \\dot{\\mathcal{V}} + {J}^{-T}h\\left ( \\theta,{J}^{-T} \\mathcal{V} \\right )\n",
    "\\end{gather*}\n",
    "\n",
    "A equação acima também pode ser escrita como:\n",
    "\n",
    "\\begin{gather*}\n",
    "\\mathcal{F} = \\Lambda \\left ( \\theta \\right ) \\dot{\\mathcal{V}} + \\eta \\left ( \\theta, \\mathcal{V} \\right )\n",
    "\\end{gather*}\n",
    "\n",
    "onde:\n",
    "\n",
    "\\begin{gather*}\n",
    "\\mathcal{F} = {J}^{-T} \\tau\n",
    "\\end{gather*}\n",
    "\n",
    "\\begin{gather*}\n",
    "\\Lambda \\left ( \\theta \\right ) \\dot{\\mathcal{V}} = {J}^{-T} M {J}^{-1} \\dot{\\mathcal{V}} - {J}^{-T}M {J}^{-1}\\dot{J}M {J}^{-1} \\dot{\\mathcal{V}}\n",
    "\\end{gather*}\n",
    "\n",
    "\\begin{gather*}\n",
    "\\eta \\left ( \\theta, \\mathcal{V} \\right ) = {J}^{-T}h\\left ( \\theta,{J}^{-T} \\mathcal{V} \\right )\n",
    "\\end{gather*}"
   ]
  }
 ],
 "metadata": {
  "kernelspec": {
   "display_name": "Python 3",
   "language": "python",
   "name": "python3"
  },
  "language_info": {
   "codemirror_mode": {
    "name": "ipython",
    "version": 3
   },
   "file_extension": ".py",
   "mimetype": "text/x-python",
   "name": "python",
   "nbconvert_exporter": "python",
   "pygments_lexer": "ipython3",
   "version": "3.8.10"
  },
  "orig_nbformat": 4,
  "vscode": {
   "interpreter": {
    "hash": "d837db824750ee3e9bf4cc0ecab479c7526afa0fb317b7f712d1b01e685b74c5"
   }
  }
 },
 "nbformat": 4,
 "nbformat_minor": 2
}
